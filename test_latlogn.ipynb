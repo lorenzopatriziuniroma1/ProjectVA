{
 "metadata": {
  "language_info": {
   "codemirror_mode": {
    "name": "ipython",
    "version": 3
   },
   "file_extension": ".py",
   "mimetype": "text/x-python",
   "name": "python",
   "nbconvert_exporter": "python",
   "pygments_lexer": "ipython3",
   "version": "3.9.5"
  },
  "orig_nbformat": 4,
  "kernelspec": {
   "name": "python3",
   "display_name": "Python 3.9.5 64-bit (windows store)"
  },
  "interpreter": {
   "hash": "1f1695d15bf577edb0e609d603692e76975552ea47c28e21ce0eb0bd65b7ae17"
  }
 },
 "nbformat": 4,
 "nbformat_minor": 2,
 "cells": [
  {
   "cell_type": "code",
   "execution_count": 311,
   "metadata": {},
   "outputs": [],
   "source": [
    "import pandas as pd"
   ]
  },
  {
   "cell_type": "code",
   "execution_count": 312,
   "metadata": {},
   "outputs": [],
   "source": [
    "lat_lon=pd.read_csv(\"ProjectVA/allCoords.csv\")\n",
    "\n"
   ]
  },
  {
   "cell_type": "code",
   "execution_count": 313,
   "metadata": {},
   "outputs": [],
   "source": [
    "years=[\"2016.csv\",\"2018.csv\",\"2019.csv\",\"2020.csv\"]\n",
    "name=\"ProjectVA\\pca_csv\\pca_year\"\n",
    "csvs=[]"
   ]
  },
  {
   "cell_type": "code",
   "execution_count": 314,
   "metadata": {},
   "outputs": [],
   "source": [
    "for year in years:\n",
    "    old_csv=pd.read_csv(name+year)\n",
    "    csvs.append(old_csv)"
   ]
  },
  {
   "cell_type": "code",
   "execution_count": 315,
   "metadata": {},
   "outputs": [],
   "source": [
    "df_merge=[]\n",
    "for csv in csvs:\n",
    "    csv['Institution'] = csv['Institution'].str.upper()\n",
    "    csv['Institution'] = csv['Institution'].str.replace('0',\"-\")\n",
    "    \n",
    "\n",
    "    df_merge_col = pd.merge(lat_lon, csv, on='Institution')\n",
    "    df_merge_col.rename(columns = {'Latitude_x' : 'Latitude', 'Longitude_x' : 'Longitude',\"Country_x\":\"Country\"}, inplace = True)\n",
    "    df_merge_col.drop(\"Latitude_y\", inplace=True, axis=1)\n",
    "    df_merge_col.drop(\"Longitude_y\", inplace=True, axis=1)\n",
    "    df_merge_col.drop(\"Country_y\", inplace=True, axis=1)\n",
    "\n",
    "    df_merge.append(df_merge_col)\n"
   ]
  },
  {
   "cell_type": "code",
   "execution_count": 316,
   "metadata": {},
   "outputs": [],
   "source": [
    "\n",
    "for i in range(0,4):\n",
    "    df_merge[i].to_csv(name+\"_v2_\"+years[i],index=False)"
   ]
  },
  {
   "cell_type": "code",
   "execution_count": 317,
   "metadata": {},
   "outputs": [
    {
     "output_type": "execute_result",
     "data": {
      "text/plain": [
       "     CurrentRank  LastRank                    Institution Country Size Focus  \\\n",
       "202          203       217  SAPIENZA - UNIVERSITÀ DI ROMA   Italy   XL    FC   \n",
       "\n",
       "    Research  Age Status  Academicscorerscore  ...  InternationalFacultyrank  \\\n",
       "202       VH  5.0      A                 72.9  ...                     601.0   \n",
       "\n",
       "     InternationalStudentscore  InternationalStudentrank  OverallScore  \\\n",
       "202                        8.5                     601.0          43.5   \n",
       "\n",
       "      Latitude  Longitude  anno     pca_1     pca_2  color  \n",
       "202  41.903316  12.515814  2020  1.600522 -1.508208   blue  \n",
       "\n",
       "[1 rows x 28 columns]"
      ],
      "text/html": "<div>\n<style scoped>\n    .dataframe tbody tr th:only-of-type {\n        vertical-align: middle;\n    }\n\n    .dataframe tbody tr th {\n        vertical-align: top;\n    }\n\n    .dataframe thead th {\n        text-align: right;\n    }\n</style>\n<table border=\"1\" class=\"dataframe\">\n  <thead>\n    <tr style=\"text-align: right;\">\n      <th></th>\n      <th>CurrentRank</th>\n      <th>LastRank</th>\n      <th>Institution</th>\n      <th>Country</th>\n      <th>Size</th>\n      <th>Focus</th>\n      <th>Research</th>\n      <th>Age</th>\n      <th>Status</th>\n      <th>Academicscorerscore</th>\n      <th>...</th>\n      <th>InternationalFacultyrank</th>\n      <th>InternationalStudentscore</th>\n      <th>InternationalStudentrank</th>\n      <th>OverallScore</th>\n      <th>Latitude</th>\n      <th>Longitude</th>\n      <th>anno</th>\n      <th>pca_1</th>\n      <th>pca_2</th>\n      <th>color</th>\n    </tr>\n  </thead>\n  <tbody>\n    <tr>\n      <th>202</th>\n      <td>203</td>\n      <td>217</td>\n      <td>SAPIENZA - UNIVERSITÀ DI ROMA</td>\n      <td>Italy</td>\n      <td>XL</td>\n      <td>FC</td>\n      <td>VH</td>\n      <td>5.0</td>\n      <td>A</td>\n      <td>72.9</td>\n      <td>...</td>\n      <td>601.0</td>\n      <td>8.5</td>\n      <td>601.0</td>\n      <td>43.5</td>\n      <td>41.903316</td>\n      <td>12.515814</td>\n      <td>2020</td>\n      <td>1.600522</td>\n      <td>-1.508208</td>\n      <td>blue</td>\n    </tr>\n  </tbody>\n</table>\n<p>1 rows × 28 columns</p>\n</div>"
     },
     "metadata": {},
     "execution_count": 317
    }
   ],
   "source": [
    "csvs[3].loc[csvs[3]['Institution'].str.contains(\"SAPIENZA\")]"
   ]
  },
  {
   "cell_type": "code",
   "execution_count": null,
   "metadata": {},
   "outputs": [],
   "source": []
  }
 ]
}